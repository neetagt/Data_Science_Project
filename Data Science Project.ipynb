{
 "cells": [
  {
   "cell_type": "markdown",
   "id": "b72a020d",
   "metadata": {},
   "source": [
    "# Hand-written Digit Classification-Prediction Analysis"
   ]
  },
  {
   "cell_type": "markdown",
   "id": "01ba6817",
   "metadata": {},
   "source": [
    "<hr style=\"border:2px solid gray\">"
   ]
  },
  {
   "cell_type": "markdown",
   "id": "ce429b20",
   "metadata": {},
   "source": [
    "## Objective: To predict the classification accuracy of hand-written digits"
   ]
  },
  {
   "cell_type": "markdown",
   "id": "a9ea1b32",
   "metadata": {},
   "source": [
    "## Import Library"
   ]
  },
  {
   "cell_type": "code",
   "execution_count": 11,
   "id": "fa5286db",
   "metadata": {},
   "outputs": [],
   "source": [
    "import pandas as pd\n",
    "import numpy as np\n",
    "import matplotlib.pyplot as plt"
   ]
  },
  {
   "cell_type": "markdown",
   "id": "5f9174dc",
   "metadata": {},
   "source": [
    "## Import data"
   ]
  },
  {
   "cell_type": "code",
   "execution_count": 12,
   "id": "6ab128b5",
   "metadata": {},
   "outputs": [],
   "source": [
    "from sklearn.datasets import load_digits"
   ]
  },
  {
   "cell_type": "code",
   "execution_count": 13,
   "id": "eac066ae",
   "metadata": {},
   "outputs": [],
   "source": [
    "df=load_digits()"
   ]
  },
  {
   "cell_type": "code",
   "execution_count": 18,
   "id": "26f6f48f",
   "metadata": {},
   "outputs": [
    {
     "data": {
      "image/png": "[encoded data removed]",
      "text/plain": [
       "<Figure size 1000x300 with 4 Axes>"
      ]
     },
     "metadata": {},
     "output_type": "display_data"
    }
   ],
   "source": [
    "_, axes= plt.subplots(nrows=1, ncols=4, figsize=(10,3))\n",
    "for ax,image,label in zip(axes,df.images,df.target):\n",
    "    ax.set_axis_off()\n",
    "    ax.imshow(image, cmap=plt.cm.gray_r,interpolation='nearest')\n",
    "    ax.set_title(\"Training: %i\" %label)"
   ]
  },
  {
   "cell_type": "markdown",
   "id": "2b76bc7e",
   "metadata": {},
   "source": [
    "## Data preprocessing"
   ]
  },
  {
   "cell_type": "markdown",
   "id": "d9e69acc",
   "metadata": {},
   "source": [
    "### Flatten image"
   ]
  },
  {
   "cell_type": "code",
   "execution_count": 16,
   "id": "8d20b264",
   "metadata": {},
   "outputs": [
    {
     "data": {
      "text/plain": [
       "(1797, 8, 8)"
      ]
     },
     "execution_count": 16,
     "metadata": {},
     "output_type": "execute_result"
    }
   ],
   "source": [
    "df.images.shape"
   ]
  },
  {
   "cell_type": "code",
   "execution_count": 19,
   "id": "adf22ac2",
   "metadata": {},
   "outputs": [
    {
     "data": {
      "text/plain": [
       "array([[ 0.,  0.,  5., 13.,  9.,  1.,  0.,  0.],\n",
       "       [ 0.,  0., 13., 15., 10., 15.,  5.,  0.],\n",
       "       [ 0.,  3., 15.,  2.,  0., 11.,  8.,  0.],\n",
       "       [ 0.,  4., 12.,  0.,  0.,  8.,  8.,  0.],\n",
       "       [ 0.,  5.,  8.,  0.,  0.,  9.,  8.,  0.],\n",
       "       [ 0.,  4., 11.,  0.,  1., 12.,  7.,  0.],\n",
       "       [ 0.,  2., 14.,  5., 10., 12.,  0.,  0.],\n",
       "       [ 0.,  0.,  6., 13., 10.,  0.,  0.,  0.]])"
      ]
     },
     "execution_count": 19,
     "metadata": {},
     "output_type": "execute_result"
    }
   ],
   "source": [
    "df.images[0]"
   ]
  },
  {
   "cell_type": "code",
   "execution_count": 20,
   "id": "ccb54b60",
   "metadata": {},
   "outputs": [
    {
     "data": {
      "text/plain": [
       "(8, 8)"
      ]
     },
     "execution_count": 20,
     "metadata": {},
     "output_type": "execute_result"
    }
   ],
   "source": [
    "df.images[0].shape"
   ]
  },
  {
   "cell_type": "code",
   "execution_count": 22,
   "id": "bbf19a56",
   "metadata": {},
   "outputs": [
    {
     "data": {
      "text/plain": [
       "1797"
      ]
     },
     "execution_count": 22,
     "metadata": {},
     "output_type": "execute_result"
    }
   ],
   "source": [
    "len(df.images)"
   ]
  },
  {
   "cell_type": "code",
   "execution_count": 31,
   "id": "32c6d135",
   "metadata": {},
   "outputs": [],
   "source": [
    "n_samples=len(df.images)\n",
    "data=df.images.reshape((n_samples,-1))"
   ]
  },
  {
   "cell_type": "code",
   "execution_count": 32,
   "id": "5e2ff51c",
   "metadata": {},
   "outputs": [
    {
     "data": {
      "text/plain": [
       "array([ 0.,  0.,  5., 13.,  9.,  1.,  0.,  0.,  0.,  0., 13., 15., 10.,\n",
       "       15.,  5.,  0.,  0.,  3., 15.,  2.,  0., 11.,  8.,  0.,  0.,  4.,\n",
       "       12.,  0.,  0.,  8.,  8.,  0.,  0.,  5.,  8.,  0.,  0.,  9.,  8.,\n",
       "        0.,  0.,  4., 11.,  0.,  1., 12.,  7.,  0.,  0.,  2., 14.,  5.,\n",
       "       10., 12.,  0.,  0.,  0.,  0.,  6., 13., 10.,  0.,  0.,  0.])"
      ]
     },
     "execution_count": 32,
     "metadata": {},
     "output_type": "execute_result"
    }
   ],
   "source": [
    "data[0]"
   ]
  },
  {
   "cell_type": "code",
   "execution_count": 33,
   "id": "0b019cd5",
   "metadata": {},
   "outputs": [
    {
     "data": {
      "text/plain": [
       "(64,)"
      ]
     },
     "execution_count": 33,
     "metadata": {},
     "output_type": "execute_result"
    }
   ],
   "source": [
    "data[0].shape"
   ]
  },
  {
   "cell_type": "code",
   "execution_count": 34,
   "id": "c616de06",
   "metadata": {},
   "outputs": [
    {
     "data": {
      "text/plain": [
       "(1797, 64)"
      ]
     },
     "execution_count": 34,
     "metadata": {},
     "output_type": "execute_result"
    }
   ],
   "source": [
    "data.shape"
   ]
  },
  {
   "cell_type": "markdown",
   "id": "da99ec31",
   "metadata": {},
   "source": [
    "### Scaling image data"
   ]
  },
  {
   "cell_type": "code",
   "execution_count": 35,
   "id": "63c0d79e",
   "metadata": {},
   "outputs": [
    {
     "data": {
      "text/plain": [
       "0.0"
      ]
     },
     "execution_count": 35,
     "metadata": {},
     "output_type": "execute_result"
    }
   ],
   "source": [
    "data.min()"
   ]
  },
  {
   "cell_type": "code",
   "execution_count": 36,
   "id": "4ad1aa58",
   "metadata": {},
   "outputs": [
    {
     "data": {
      "text/plain": [
       "16.0"
      ]
     },
     "execution_count": 36,
     "metadata": {},
     "output_type": "execute_result"
    }
   ],
   "source": [
    "data.max()"
   ]
  },
  {
   "cell_type": "code",
   "execution_count": 37,
   "id": "9e522464",
   "metadata": {},
   "outputs": [],
   "source": [
    "data=data/16"
   ]
  },
  {
   "cell_type": "code",
   "execution_count": 39,
   "id": "ce3fa0a5",
   "metadata": {},
   "outputs": [
    {
     "data": {
      "text/plain": [
       "0.0"
      ]
     },
     "execution_count": 39,
     "metadata": {},
     "output_type": "execute_result"
    }
   ],
   "source": [
    "data.min()"
   ]
  },
  {
   "cell_type": "code",
   "execution_count": 40,
   "id": "95694b3e",
   "metadata": {},
   "outputs": [
    {
     "data": {
      "text/plain": [
       "1.0"
      ]
     },
     "execution_count": 40,
     "metadata": {},
     "output_type": "execute_result"
    }
   ],
   "source": [
    "data.max()"
   ]
  },
  {
   "cell_type": "code",
   "execution_count": 41,
   "id": "a9a54c0c",
   "metadata": {},
   "outputs": [
    {
     "data": {
      "text/plain": [
       "array([0.    , 0.    , 0.3125, 0.8125, 0.5625, 0.0625, 0.    , 0.    ,\n",
       "       0.    , 0.    , 0.8125, 0.9375, 0.625 , 0.9375, 0.3125, 0.    ,\n",
       "       0.    , 0.1875, 0.9375, 0.125 , 0.    , 0.6875, 0.5   , 0.    ,\n",
       "       0.    , 0.25  , 0.75  , 0.    , 0.    , 0.5   , 0.5   , 0.    ,\n",
       "       0.    , 0.3125, 0.5   , 0.    , 0.    , 0.5625, 0.5   , 0.    ,\n",
       "       0.    , 0.25  , 0.6875, 0.    , 0.0625, 0.75  , 0.4375, 0.    ,\n",
       "       0.    , 0.125 , 0.875 , 0.3125, 0.625 , 0.75  , 0.    , 0.    ,\n",
       "       0.    , 0.    , 0.375 , 0.8125, 0.625 , 0.    , 0.    , 0.    ])"
      ]
     },
     "execution_count": 41,
     "metadata": {},
     "output_type": "execute_result"
    }
   ],
   "source": [
    "data[0]"
   ]
  },
  {
   "cell_type": "markdown",
   "id": "22971228",
   "metadata": {},
   "source": [
    "## Train test split data"
   ]
  },
  {
   "cell_type": "code",
   "execution_count": 46,
   "id": "3be280e9",
   "metadata": {},
   "outputs": [
    {
     "data": {
      "text/plain": [
       "((1257, 64), (540, 64), (1257,), (540,))"
      ]
     },
     "execution_count": 46,
     "metadata": {},
     "output_type": "execute_result"
    }
   ],
   "source": [
    "from sklearn.model_selection import train_test_split\n",
    "X_train, X_test, y_train, y_test = train_test_split(data,df.target,test_size=0.3)\n",
    "X_train.shape, X_test.shape, y_train.shape, y_test.shape"
   ]
  },
  {
   "cell_type": "markdown",
   "id": "3e5c43a5",
   "metadata": {},
   "source": [
    "## Random forest model"
   ]
  },
  {
   "cell_type": "code",
   "execution_count": 47,
   "id": "e35e8b91",
   "metadata": {},
   "outputs": [
    {
     "data": {
      "text/plain": [
       "RandomForestClassifier()"
      ]
     },
     "execution_count": 47,
     "metadata": {},
     "output_type": "execute_result"
    }
   ],
   "source": [
    "from sklearn.ensemble import RandomForestClassifier\n",
    "rf=RandomForestClassifier()\n",
    "rf.fit(X_train,y_train)"
   ]
  },
  {
   "cell_type": "markdown",
   "id": "61ad0948",
   "metadata": {},
   "source": [
    "## Predict Test data"
   ]
  },
  {
   "cell_type": "code",
   "execution_count": 50,
   "id": "41415fd7",
   "metadata": {},
   "outputs": [
    {
     "data": {
      "text/plain": [
       "array([8, 9, 5, 7, 8, 7, 5, 0, 5, 4, 6, 9, 4, 6, 2, 8, 8, 3, 5, 0, 7, 0,\n",
       "       2, 7, 8, 6, 7, 1, 9, 7, 8, 5, 0, 3, 8, 5, 9, 5, 8, 7, 1, 2, 9, 4,\n",
       "       9, 7, 0, 2, 6, 1, 4, 2, 0, 4, 2, 5, 6, 3, 7, 7, 9, 4, 6, 1, 4, 0,\n",
       "       5, 5, 5, 3, 8, 0, 1, 4, 3, 3, 7, 3, 0, 0, 4, 6, 0, 5, 7, 8, 9, 8,\n",
       "       6, 2, 2, 6, 8, 8, 5, 4, 6, 2, 0, 2, 5, 7, 1, 0, 8, 7, 4, 8, 8, 2,\n",
       "       2, 5, 2, 1, 8, 3, 3, 0, 5, 2, 0, 8, 6, 0, 6, 1, 6, 1, 6, 8, 2, 8,\n",
       "       5, 1, 4, 2, 8, 9, 8, 0, 6, 6, 4, 1, 5, 7, 0, 4, 3, 4, 2, 9, 1, 7,\n",
       "       7, 3, 4, 5, 3, 8, 0, 9, 4, 7, 8, 7, 0, 1, 2, 3, 7, 3, 2, 0, 3, 7,\n",
       "       0, 6, 5, 1, 6, 3, 4, 5, 4, 9, 3, 3, 8, 2, 8, 7, 8, 0, 9, 6, 4, 3,\n",
       "       0, 8, 1, 0, 4, 1, 0, 3, 6, 2, 5, 1, 8, 6, 6, 3, 7, 5, 2, 2, 2, 8,\n",
       "       1, 7, 5, 2, 2, 0, 0, 6, 8, 3, 2, 5, 8, 1, 6, 4, 9, 7, 2, 4, 3, 4,\n",
       "       0, 1, 3, 9, 2, 8, 8, 8, 9, 7, 4, 1, 2, 6, 2, 9, 7, 0, 3, 5, 2, 7,\n",
       "       3, 2, 5, 6, 4, 6, 9, 4, 5, 5, 0, 5, 2, 0, 1, 2, 5, 5, 8, 1, 6, 0,\n",
       "       1, 2, 0, 9, 4, 4, 5, 3, 2, 6, 5, 4, 5, 1, 9, 2, 0, 4, 3, 5, 5, 1,\n",
       "       3, 8, 4, 3, 2, 7, 3, 7, 7, 1, 0, 0, 9, 0, 0, 1, 1, 2, 9, 8, 0, 2,\n",
       "       2, 9, 3, 8, 6, 3, 8, 6, 2, 3, 4, 4, 5, 6, 1, 5, 8, 7, 2, 8, 4, 4,\n",
       "       0, 3, 1, 6, 6, 9, 1, 6, 5, 5, 6, 9, 1, 4, 9, 3, 9, 5, 1, 7, 9, 8,\n",
       "       1, 1, 8, 4, 6, 2, 8, 7, 9, 5, 0, 3, 8, 8, 0, 6, 7, 4, 7, 1, 4, 9,\n",
       "       3, 9, 0, 3, 8, 1, 7, 2, 4, 1, 1, 7, 3, 4, 1, 3, 2, 1, 2, 2, 1, 1,\n",
       "       9, 6, 5, 0, 4, 5, 8, 1, 1, 5, 9, 7, 0, 5, 5, 7, 3, 0, 7, 8, 9, 1,\n",
       "       7, 5, 9, 8, 2, 5, 0, 2, 9, 8, 9, 8, 2, 3, 4, 7, 8, 7, 8, 5, 9, 5,\n",
       "       7, 7, 6, 7, 7, 0, 4, 4, 5, 9, 4, 8, 9, 2, 0, 0, 7, 6, 7, 4, 8, 7,\n",
       "       9, 9, 1, 2, 7, 8, 0, 6, 3, 0, 9, 4, 1, 2, 6, 8, 7, 1, 7, 9, 4, 2,\n",
       "       8, 4, 6, 2, 9, 2, 4, 4, 0, 4, 0, 8, 5, 1, 4, 4, 5, 9, 5, 5, 0, 0,\n",
       "       9, 6, 0, 3, 4, 1, 7, 0, 3, 4, 0, 2])"
      ]
     },
     "execution_count": 50,
     "metadata": {},
     "output_type": "execute_result"
    }
   ],
   "source": [
    "y_pred=rf.predict(X_test)\n",
    "y_pred"
   ]
  },
  {
   "cell_type": "markdown",
   "id": "7d1e3477",
   "metadata": {},
   "source": [
    "## Model accuracy"
   ]
  },
  {
   "cell_type": "code",
   "execution_count": 52,
   "id": "5d1e6020",
   "metadata": {},
   "outputs": [],
   "source": [
    "from sklearn.metrics import confusion_matrix , classification_report"
   ]
  },
  {
   "cell_type": "code",
   "execution_count": 53,
   "id": "5d26c421",
   "metadata": {},
   "outputs": [
    {
     "data": {
      "text/plain": [
       "array([[60,  0,  0,  0,  0,  0,  0,  0,  0,  0],\n",
       "       [ 0, 49,  0,  0,  0,  0,  0,  0,  0,  0],\n",
       "       [ 0,  0, 59,  0,  0,  0,  0,  0,  0,  0],\n",
       "       [ 0,  0,  0, 44,  0,  1,  0,  0,  0,  1],\n",
       "       [ 0,  0,  0,  0, 58,  0,  0,  0,  0,  0],\n",
       "       [ 0,  0,  0,  0,  0, 55,  0,  0,  0,  0],\n",
       "       [ 0,  0,  0,  0,  0,  1, 45,  0,  1,  0],\n",
       "       [ 0,  0,  0,  0,  0,  0,  0, 54,  0,  0],\n",
       "       [ 0,  3,  0,  0,  0,  0,  0,  1, 59,  1],\n",
       "       [ 0,  0,  0,  2,  0,  0,  0,  0,  1, 45]], dtype=int64)"
      ]
     },
     "execution_count": 53,
     "metadata": {},
     "output_type": "execute_result"
    }
   ],
   "source": [
    "confusion_matrix(y_test,y_pred)"
   ]
  },
  {
   "cell_type": "code",
   "execution_count": 55,
   "id": "47767da4",
   "metadata": {},
   "outputs": [
    {
     "name": "stdout",
     "output_type": "stream",
     "text": [
      "              precision    recall  f1-score   support\n",
      "\n",
      "           0       1.00      1.00      1.00        60\n",
      "           1       0.94      1.00      0.97        49\n",
      "           2       1.00      1.00      1.00        59\n",
      "           3       0.96      0.96      0.96        46\n",
      "           4       1.00      1.00      1.00        58\n",
      "           5       0.96      1.00      0.98        55\n",
      "           6       1.00      0.96      0.98        47\n",
      "           7       0.98      1.00      0.99        54\n",
      "           8       0.97      0.92      0.94        64\n",
      "           9       0.96      0.94      0.95        48\n",
      "\n",
      "    accuracy                           0.98       540\n",
      "   macro avg       0.98      0.98      0.98       540\n",
      "weighted avg       0.98      0.98      0.98       540\n",
      "\n"
     ]
    }
   ],
   "source": [
    "print(classification_report(y_test,y_pred))"
   ]
  },
  {
   "cell_type": "markdown",
   "id": "e8adf4eb",
   "metadata": {},
   "source": [
    "## Explanation\n"
   ]
  },
  {
   "cell_type": "markdown",
   "id": "e4618ba4",
   "metadata": {},
   "source": [
    "Hand-written digit classification is the process of identifying a digit from an image of handwritten characters. This is an important problem in image processing and machine learning, with numerous real-world applications.\n",
    "In this task, we will use the RandomForestClassifier algorithm to classify and predict hand-written digits using the Python programming language. The RandomForestClassifier is a popular classification algorithm in machine learning, which is based on the concept of decision trees.\n",
    "Here are the steps to perform hand-written digit classification using the RandomForestClassifier algorithm in Python:\n",
    "Step 1: Import the required libraries and dataset.\n",
    "Step 2: Train the RandomForestClassifier model.\n",
    "Step 3: Evaluate the model.\n",
    "Step 4: Make predictions."
   ]
  }
 ],
 "metadata": {
  "kernelspec": {
   "display_name": "Python 3 (ipykernel)",
   "language": "python",
   "name": "python3"
  },
  "language_info": {
   "codemirror_mode": {
    "name": "ipython",
    "version": 3
   },
   "file_extension": ".py",
   "mimetype": "text/x-python",
   "name": "python",
   "nbconvert_exporter": "python",
   "pygments_lexer": "ipython3",
   "version": "3.9.13"
  }
 },
 "nbformat": 4,
 "nbformat_minor": 5
}
